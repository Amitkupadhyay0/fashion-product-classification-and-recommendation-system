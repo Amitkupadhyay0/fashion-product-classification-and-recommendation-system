{
 "cells": [
  {
   "cell_type": "markdown",
   "id": "3a99a1c4",
   "metadata": {},
   "source": [
    "# Trained model Details"
   ]
  },
  {
   "cell_type": "code",
   "execution_count": 39,
   "id": "af6e72c4",
   "metadata": {},
   "outputs": [],
   "source": [
    "import tensorflow as tf\n",
    "from tensorflow.keras.utils import plot_model\n",
    "import matplotlib.pyplot as plt\n",
    "from tensorflow.keras.preprocessing.image import ImageDataGenerator"
   ]
  },
  {
   "cell_type": "markdown",
   "id": "b5a9593f",
   "metadata": {},
   "source": [
    "## Read the model"
   ]
  },
  {
   "cell_type": "markdown",
   "id": "60557a67",
   "metadata": {},
   "source": [
    "1. Model to classify category"
   ]
  },
  {
   "cell_type": "code",
   "execution_count": 40,
   "id": "8cf243da",
   "metadata": {},
   "outputs": [],
   "source": [
    "model_category=tf.keras.models.load_model(r\"C:\\Users\\amitu\\Desktop\\fashion_model\\trained model\\model_category.h5\")"
   ]
  },
  {
   "cell_type": "code",
   "execution_count": 41,
   "id": "f4768d2a",
   "metadata": {},
   "outputs": [
    {
     "name": "stdout",
     "output_type": "stream",
     "text": [
      "Model: \"sequential\"\n",
      "_________________________________________________________________\n",
      " Layer (type)                Output Shape              Param #   \n",
      "=================================================================\n",
      " resnet50 (Functional)       (None, 2048)              23587712  \n",
      "                                                                 \n",
      " dense (Dense)               (None, 128)               262272    \n",
      "                                                                 \n",
      " batch_normalization (Batch  (None, 128)               512       \n",
      " Normalization)                                                  \n",
      "                                                                 \n",
      " dropout (Dropout)           (None, 128)               0         \n",
      "                                                                 \n",
      " dense_1 (Dense)             (None, 64)                8256      \n",
      "                                                                 \n",
      " batch_normalization_1 (Bat  (None, 64)                256       \n",
      " chNormalization)                                                \n",
      "                                                                 \n",
      " dropout_1 (Dropout)         (None, 64)                0         \n",
      "                                                                 \n",
      " dense_2 (Dense)             (None, 32)                2080      \n",
      "                                                                 \n",
      " batch_normalization_2 (Bat  (None, 32)                128       \n",
      " chNormalization)                                                \n",
      "                                                                 \n",
      " dropout_2 (Dropout)         (None, 32)                0         \n",
      "                                                                 \n",
      " dense_3 (Dense)             (None, 18)                594       \n",
      "                                                                 \n",
      "=================================================================\n",
      "Total params: 23861810 (91.03 MB)\n",
      "Trainable params: 23808242 (90.82 MB)\n",
      "Non-trainable params: 53568 (209.25 KB)\n",
      "_________________________________________________________________\n"
     ]
    }
   ],
   "source": [
    "#summary of the model\n",
    "model_category.summary()"
   ]
  },
  {
   "cell_type": "code",
   "execution_count": null,
   "id": "d5af7a12",
   "metadata": {},
   "outputs": [],
   "source": []
  },
  {
   "cell_type": "code",
   "execution_count": null,
   "id": "1735b968",
   "metadata": {},
   "outputs": [],
   "source": []
  },
  {
   "cell_type": "markdown",
   "id": "685f58b9",
   "metadata": {},
   "source": [
    "2. Model to classify gender"
   ]
  },
  {
   "cell_type": "code",
   "execution_count": 42,
   "id": "28b53fc8",
   "metadata": {},
   "outputs": [],
   "source": [
    "model_gender= tf.keras.models.load_model(r\"C:\\Users\\amitu\\Desktop\\New folder\\my_model_gender.h5\")"
   ]
  },
  {
   "cell_type": "code",
   "execution_count": 43,
   "id": "65036048",
   "metadata": {},
   "outputs": [
    {
     "name": "stdout",
     "output_type": "stream",
     "text": [
      "Model: \"sequential_1\"\n",
      "_________________________________________________________________\n",
      " Layer (type)                Output Shape              Param #   \n",
      "=================================================================\n",
      " resnet50 (Functional)       (None, 2048)              23587712  \n",
      "                                                                 \n",
      " dense_4 (Dense)             (None, 64)                131136    \n",
      "                                                                 \n",
      " batch_normalization_3 (Bat  (None, 64)                256       \n",
      " chNormalization)                                                \n",
      "                                                                 \n",
      " dropout_3 (Dropout)         (None, 64)                0         \n",
      "                                                                 \n",
      " dense_5 (Dense)             (None, 32)                2080      \n",
      "                                                                 \n",
      " batch_normalization_4 (Bat  (None, 32)                128       \n",
      " chNormalization)                                                \n",
      "                                                                 \n",
      " dropout_4 (Dropout)         (None, 32)                0         \n",
      "                                                                 \n",
      " dense_6 (Dense)             (None, 16)                528       \n",
      "                                                                 \n",
      " batch_normalization_5 (Bat  (None, 16)                64        \n",
      " chNormalization)                                                \n",
      "                                                                 \n",
      " dropout_5 (Dropout)         (None, 16)                0         \n",
      "                                                                 \n",
      " dense_7 (Dense)             (None, 2)                 34        \n",
      "                                                                 \n",
      "=================================================================\n",
      "Total params: 23721938 (90.49 MB)\n",
      "Trainable params: 23668594 (90.29 MB)\n",
      "Non-trainable params: 53344 (208.38 KB)\n",
      "_________________________________________________________________\n"
     ]
    }
   ],
   "source": [
    "#summary of the model\n",
    "model_gender.summary()"
   ]
  },
  {
   "cell_type": "markdown",
   "id": "dc2a4a5e",
   "metadata": {},
   "source": [
    "#### Read data frame "
   ]
  },
  {
   "cell_type": "code",
   "execution_count": 44,
   "id": "d514c508",
   "metadata": {},
   "outputs": [],
   "source": [
    "import pandas as pd\n",
    "import matplotlib.pyplot as plt\n",
    "import numpy as np\n",
    "## Read Train data CSV file\n",
    "df_train=pd.read_csv(r\"path\\train_data.csv\")\n",
    "## Read Test data\n",
    "df_test=pd.read_csv(r\"path\\test_data.csv\")"
   ]
  },
  {
   "cell_type": "code",
   "execution_count": null,
   "id": "9d09649f",
   "metadata": {},
   "outputs": [],
   "source": [
    "df_train = pd.read_csv(r'path\\train_data.csv',error_bad_lines=False)\n",
    "df_train['image'] = df_train.apply(lambda row: str(row['id']) + \".jpg\", axis=1)"
   ]
  },
  {
   "cell_type": "code",
   "execution_count": null,
   "id": "a787be42",
   "metadata": {},
   "outputs": [],
   "source": [
    "df_test = pd.read_csv(r'path\\test_data.csv',error_bad_lines=False)\n",
    "df_test['image'] = df_test.apply(lambda row: str(row['id']) + \".jpg\", axis=1)"
   ]
  },
  {
   "cell_type": "markdown",
   "id": "0a1c6030",
   "metadata": {},
   "source": [
    "### Accuracy of Trained model"
   ]
  },
  {
   "cell_type": "markdown",
   "id": "985b5970",
   "metadata": {},
   "source": [
    "#### Read image using genator"
   ]
  },
  {
   "cell_type": "code",
   "execution_count": 47,
   "id": "05e4efc6",
   "metadata": {},
   "outputs": [],
   "source": [
    "# Data augmentation with different settings\n",
    "image_generator = ImageDataGenerator(\n",
    "    rescale=1.0 / 255.0,  # Normalize pixel values to [0, 1]\n",
    "    rotation_range=15,   # Random rotation\n",
    "    width_shift_range=0.1,  # Random horizontal shift\n",
    "    height_shift_range=0.1,  # Random vertical shift\n",
    "    shear_range=0.1,  # Shear transformation\n",
    "    zoom_range=0.1,  # Random zoom\n",
    "    horizontal_flip=True,  # Random horizontal flip\n",
    "    fill_mode='nearest'\n",
    ")\n",
    "####################################\n",
    "# count of each class\n",
    "class_counts = df_test['articleType'].value_counts().to_dict()\n",
    "#####################################\n",
    "# Class weights for balancing\n",
    "class_weights = {class_idx: max(class_counts.values()) / count for class_idx, count in class_counts.items()}"
   ]
  },
  {
   "cell_type": "code",
   "execution_count": null,
   "id": "0af3a764",
   "metadata": {},
   "outputs": [],
   "source": [
    "# Flow training data for article type\n",
    "training_generator = image_generator.flow_from_dataframe(\n",
    "    dataframe=df_train,\n",
    "    directory=r\"path\\train_image\",\n",
    "    x_col=\"image\",\n",
    "    y_col=\"articleType\",\n",
    "    target_size=(200,200),\n",
    "    batch_size=32,\n",
    "    class_mode=\"categorical\", \n",
    "    shuffle=True,\n",
    "    class_weights=class_weights  \n",
    ")"
   ]
  },
  {
   "cell_type": "code",
   "execution_count": null,
   "id": "3997dc72",
   "metadata": {},
   "outputs": [],
   "source": [
    "# Flow training data for gender\n",
    "training_generator_gender = image_generator.flow_from_dataframe(\n",
    "    dataframe=df_train,\n",
    "    directory=r\"path\\train_image\",\n",
    "    x_col=\"image\",\n",
    "    y_col=\"gender\",\n",
    "    target_size=(200,200),\n",
    "    batch_size=32,\n",
    "    class_mode=\"categorical\", \n",
    "    shuffle=True,\n",
    "    class_weights=class_weights  \n",
    ")"
   ]
  },
  {
   "cell_type": "code",
   "execution_count": null,
   "id": "83b80e29",
   "metadata": {},
   "outputs": [],
   "source": [
    "# validation data for article type\n",
    "validation_generator = image_generator.flow_from_dataframe(\n",
    "    dataframe=df_test,\n",
    "    directory=r\"path\\test_image\",\n",
    "    x_col=\"image\",\n",
    "    y_col=\"articleType\",\n",
    "    target_size=(200,200),\n",
    "    batch_size=32,\n",
    "    class_mode=\"categorical\",  # Use \"categorical\" for one-hot encoded labels\n",
    "    shuffle=False\n",
    ")"
   ]
  },
  {
   "cell_type": "code",
   "execution_count": null,
   "id": "22a0892c",
   "metadata": {},
   "outputs": [],
   "source": [
    "# validation data for article type\n",
    "validation_generator_gender= image_generator.flow_from_dataframe(\n",
    "    dataframe=df_test,\n",
    "    directory=r\"path\\test_image\",\n",
    "    x_col=\"image\",\n",
    "    y_col=\"gender\",\n",
    "    target_size=(200,200),\n",
    "    batch_size=32,\n",
    "    class_mode=\"categorical\", \n",
    "    shuffle=False\n",
    ")"
   ]
  },
  {
   "cell_type": "markdown",
   "id": "14e80b07",
   "metadata": {},
   "source": [
    "#### Accuracy of model"
   ]
  },
  {
   "cell_type": "markdown",
   "id": "cf0805ea",
   "metadata": {},
   "source": [
    "#### 1. Article type classification Model"
   ]
  },
  {
   "cell_type": "code",
   "execution_count": 56,
   "id": "8a49bed3",
   "metadata": {},
   "outputs": [
    {
     "name": "stdout",
     "output_type": "stream",
     "text": [
      "134/134 [==============================] - 816s 6s/step - loss: 0.5183 - accuracy: 0.9206\n",
      "Accuracy: [0.5183279514312744, 0.920634925365448]\n"
     ]
    }
   ],
   "source": [
    "accuracy = model_category.evaluate(validation_generator)\n",
    "print('Accuracy:', accuracy)"
   ]
  },
  {
   "cell_type": "markdown",
   "id": "52b8d609",
   "metadata": {},
   "source": [
    "#### 2. Gender classification model"
   ]
  },
  {
   "cell_type": "code",
   "execution_count": 60,
   "id": "80454cee",
   "metadata": {},
   "outputs": [
    {
     "name": "stdout",
     "output_type": "stream",
     "text": [
      "134/134 [==============================] - 827s 6s/step - loss: 0.1867 - accuracy: 0.9314\n",
      "Accuracy: [0.18666262924671173, 0.9313725233078003]\n"
     ]
    }
   ],
   "source": [
    "accuracy_gender= model_gender.evaluate(validation_generator_gender)\n",
    "print('Accuracy:', accuracy_gender)"
   ]
  }
 ],
 "metadata": {
  "kernelspec": {
   "display_name": "Python 3 (ipykernel)",
   "language": "python",
   "name": "python3"
  },
  "language_info": {
   "codemirror_mode": {
    "name": "ipython",
    "version": 3
   },
   "file_extension": ".py",
   "mimetype": "text/x-python",
   "name": "python",
   "nbconvert_exporter": "python",
   "pygments_lexer": "ipython3",
   "version": "3.11.4"
  }
 },
 "nbformat": 4,
 "nbformat_minor": 5
}
