{
 "cells": [
  {
   "cell_type": "markdown",
   "metadata": {},
   "source": [
    "#### Importing libraries"
   ]
  },
  {
   "cell_type": "code",
   "execution_count": null,
   "metadata": {
    "id": "TqzCeIObzRDv"
   },
   "outputs": [],
   "source": [
    "#Importing libraries\n",
    "import pandas as pd\n",
    "import numpy as np\n",
    "from zipfile import ZipFile  #To unzip data\n",
    "import cv2\n",
    "import matplotlib.pyplot as plt"
   ]
  },
  {
   "cell_type": "code",
   "execution_count": null,
   "metadata": {
    "id": "IvBPH4xrzXqL"
   },
   "outputs": [],
   "source": [
    "#Importing library from tensorflow\n",
    "import tensorflow as tf\n",
    "from tensorflow.keras import layers, models\n",
    "from tensorflow.keras.preprocessing.image import ImageDataGenerator\n",
    "from keras.utils import Sequence\n",
    "from keras.preprocessing.image import ImageDataGenerator\n",
    "from PIL import Image\n",
    "from keras.utils import to_categorical\n",
    "from keras.models import Sequential\n",
    "from keras.layers import Conv2D, MaxPooling2D, Flatten, Dense, Dropout\n",
    "from keras.optimizers import Adam\n",
    "from sklearn.model_selection import train_test_split\n",
    "from keras.utils import Sequence\n",
    "from tensorflow.keras.applications import ResNet50\n",
    "from keras.layers import Dense, Dropout, BatchNormalization\n",
    "from keras.callbacks import EarlyStopping, ModelCheckpoint"
   ]
  },
  {
   "cell_type": "markdown",
   "metadata": {
    "colab": {
     "base_uri": "https://localhost:8080/"
    },
    "id": "M5IyH36xzYSl",
    "outputId": "db10b9b8-7fc3-4f18-cd8c-587108d8c437"
   },
   "source": [
    "#### Read train , test csv as data frame"
   ]
  },
  {
   "cell_type": "markdown",
   "metadata": {},
   "source": [
    "Read csv and add a new coloumn with .jpg appended in id( unique image number)"
   ]
  },
  {
   "cell_type": "code",
   "execution_count": null,
   "metadata": {
    "colab": {
     "base_uri": "https://localhost:8080/"
    },
    "id": "hxJ7a4oEzbss",
    "outputId": "3b269280-0e92-4caf-8954-79a5d876f06f"
   },
   "outputs": [],
   "source": [
    "df_train = pd.read_csv('path/train_data.csv',error_bad_lines=False)\n",
    "df_train['image'] = df_train.apply(lambda row: str(row['id']) + \".jpg\", axis=1)"
   ]
  },
  {
   "cell_type": "code",
   "execution_count": null,
   "metadata": {
    "colab": {
     "base_uri": "https://localhost:8080/"
    },
    "id": "ni68oa48zfbz",
    "outputId": "c1eb284f-8d31-4fae-8321-0fa1e0e5f857"
   },
   "outputs": [],
   "source": [
    "df_test = pd.read_csv('path/test_data.csv',error_bad_lines=False)\n",
    "df_test['image'] = df_test.apply(lambda row: str(row['id']) + \".jpg\", axis=1)"
   ]
  },
  {
   "cell_type": "markdown",
   "metadata": {},
   "source": [
    "#### Use Image Data genrator to read images in batch \n",
    "#### Use Augumantion & class weight "
   ]
  },
  {
   "cell_type": "code",
   "execution_count": null,
   "metadata": {
    "id": "S8mgkP1xziAl"
   },
   "outputs": [],
   "source": [
    "# Data augmentation with different settings for imbalanced classes\n",
    "image_generator_gender = ImageDataGenerator(\n",
    "    rescale=1.0 / 255.0,  # Normalize pixel values to [0, 1]\n",
    "    rotation_range=15,   # Random rotation\n",
    "    width_shift_range=0.1,  # Random horizontal shift\n",
    "    height_shift_range=0.1,  # Random vertical shift\n",
    "    shear_range=0.1,  # Shear transformation\n",
    "    zoom_range=0.1,  # Random zoom\n",
    "    horizontal_flip=True,  # Random horizontal flip\n",
    "    fill_mode='nearest'\n",
    ")\n",
    "####################################\n",
    "# Define classes and count of each class\n",
    "class_counts_gender = df_test['gender'].value_counts().to_dict()\n",
    "#####################################\n",
    "# Calculate the class weights for balancing\n",
    "class_weights = {class_idx: max(class_counts_gender.values()) / count for class_idx, count in class_counts_gender.items()}"
   ]
  },
  {
   "cell_type": "markdown",
   "metadata": {},
   "source": [
    "#### Reading Training data"
   ]
  },
  {
   "cell_type": "code",
   "execution_count": null,
   "metadata": {
    "colab": {
     "base_uri": "https://localhost:8080/"
    },
    "id": "DkZooT-N0Ncp",
    "outputId": "98883228-9dd8-420a-c409-8624c8b753d2"
   },
   "outputs": [],
   "source": [
    "# Flow training data from DataFrame with data augmentation image\n",
    "training_generator_gender= image_generator_gender.flow_from_dataframe(\n",
    "    dataframe=df_train,\n",
    "    directory='/content/fashion_dataset/train_image',\n",
    "    x_col=\"image\",\n",
    "    y_col=\"gender\",\n",
    "    target_size=(200,200),\n",
    "    batch_size=32,\n",
    "    class_mode=\"categorical\",  \n",
    "    shuffle=True,\n",
    "    class_weights=class_weights  # class weights for balancing\n",
    ")"
   ]
  },
  {
   "cell_type": "markdown",
   "metadata": {},
   "source": [
    "#### Reading test data"
   ]
  },
  {
   "cell_type": "code",
   "execution_count": null,
   "metadata": {
    "colab": {
     "base_uri": "https://localhost:8080/"
    },
    "id": "xvoTq1vI0T8k",
    "outputId": "6bca9bb9-fbc1-4bdd-cea6-51203ce44d7b"
   },
   "outputs": [],
   "source": [
    "# Flow validation data from DataFrame without augmentation\n",
    "validation_generator_gender = image_generator_gender.flow_from_dataframe(\n",
    "    dataframe=df_test,\n",
    "    directory=\"/content/fashion_dataset/test_image\",\n",
    "    x_col=\"image\",\n",
    "    y_col=\"gender\",\n",
    "    target_size=(200,200),\n",
    "    batch_size=32,\n",
    "    class_mode=\"categorical\",  # Use \"categorical\" for one-hot encoded labels\n",
    "    shuffle=False\n",
    ")"
   ]
  },
  {
   "cell_type": "markdown",
   "metadata": {},
   "source": [
    "#### Create a CNN model using Rasnet"
   ]
  },
  {
   "cell_type": "code",
   "execution_count": null,
   "metadata": {
    "id": "Ei5xy2cL0ZtX"
   },
   "outputs": [],
   "source": [
    "#  Sequential model\n",
    "model_2= Sequential()\n",
    "\n",
    "# Load ResNet50 model\n",
    "model_2.add(ResNet50(include_top=False, weights=\"imagenet\", pooling=\"avg\"))   # kepp include_top=False\n",
    "\n",
    "# Adding  new layers\n",
    "model_2.add(Dense(64, activation=\"relu\"))\n",
    "model_2.add(BatchNormalization())\n",
    "model_2.add(Dropout(0.3))\n",
    "\n",
    "model_2.add(Dense(32, activation=\"relu\"))\n",
    "model_2.add(BatchNormalization())\n",
    "model_2.add(Dropout(0.3))\n",
    "\n",
    "model_2.add(Dense(16, activation=\"relu\"))\n",
    "model_2.add(BatchNormalization())\n",
    "model_2.add(Dropout(0.3))\n",
    "model_2.add(Dense(2, activation=\"softmax\"))"
   ]
  },
  {
   "cell_type": "markdown",
   "metadata": {},
   "source": [
    "#### Complie the model"
   ]
  },
  {
   "cell_type": "code",
   "execution_count": null,
   "metadata": {
    "id": "Y1iyJ2DS0ff7"
   },
   "outputs": [],
   "source": [
    "# adding Early Stopping and Model Checkpoint\n",
    "early_stopping = EarlyStopping(monitor=\"val_acc\", patience=2, restore_best_weights=True)\n",
    "model_checkpoint = ModelCheckpoint(\"best_model.h5\", monitor=\"val_acc\", save_best_only=True)\n",
    "optimizer_ = Adam(learning_rate=0.0000001)         # Optimizer & learning rate\n",
    "# Compile the model\n",
    "model_2.compile(optimizer=optimizer_, loss=\"categorical_crossentropy\", metrics=[\"accuracy\"])"
   ]
  },
  {
   "cell_type": "markdown",
   "metadata": {},
   "source": [
    "#### Train the model"
   ]
  },
  {
   "cell_type": "code",
   "execution_count": null,
   "metadata": {
    "colab": {
     "base_uri": "https://localhost:8080/"
    },
    "id": "50k19WXb0kfJ",
    "outputId": "71350e05-16f3-450d-93f8-34be62e24cab"
   },
   "outputs": [],
   "source": [
    "# Train the model\n",
    "history_sub_cat= model_2.fit(training_generator_gender,steps_per_epoch=len(training_generator_gender),epochs=20,\n",
    "    validation_data=validation_generator_gender,\n",
    "    validation_steps=len(validation_generator_gender),\n",
    "    callbacks=[early_stopping, model_checkpoint]\n",
    ")"
   ]
  },
  {
   "cell_type": "code",
   "execution_count": null,
   "metadata": {
    "colab": {
     "base_uri": "https://localhost:8080/"
    },
    "id": "6ti-qJ14Ys4O",
    "outputId": "22b613e6-393e-40b0-8469-8c42c9e12e01"
   },
   "outputs": [],
   "source": []
  }
 ],
 "metadata": {
  "accelerator": "GPU",
  "colab": {
   "gpuType": "T4",
   "provenance": []
  },
  "kernelspec": {
   "display_name": "Python 3 (ipykernel)",
   "language": "python",
   "name": "python3"
  },
  "language_info": {
   "codemirror_mode": {
    "name": "ipython",
    "version": 3
   },
   "file_extension": ".py",
   "mimetype": "text/x-python",
   "name": "python",
   "nbconvert_exporter": "python",
   "pygments_lexer": "ipython3",
   "version": "3.11.4"
  }
 },
 "nbformat": 4,
 "nbformat_minor": 1
}
