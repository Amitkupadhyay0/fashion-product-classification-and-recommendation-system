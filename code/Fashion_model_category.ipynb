{
 "cells": [
  {
   "cell_type": "markdown",
   "metadata": {},
   "source": [
    "#### Importing libraries"
   ]
  },
  {
   "cell_type": "code",
   "execution_count": null,
   "metadata": {
    "id": "xjxLx0UHmt2S"
   },
   "outputs": [],
   "source": [
    "#Importing libraries\n",
    "import pandas as pd\n",
    "import numpy as np\n",
    "from zipfile import ZipFile  #To unzip data\n",
    "import cv2\n",
    "import matplotlib.pyplot as plt"
   ]
  },
  {
   "cell_type": "code",
   "execution_count": null,
   "metadata": {
    "id": "hMMYaRAIm5bo"
   },
   "outputs": [],
   "source": [
    "#Importing library from tensorflow\n",
    "import tensorflow as tf\n",
    "from tensorflow.keras import layers, models\n",
    "from tensorflow.keras.preprocessing.image import ImageDataGenerator\n",
    "from keras.utils import Sequence\n",
    "from keras.preprocessing.image import ImageDataGenerator\n",
    "from PIL import Image\n",
    "from sklearn.preprocessing import LabelEncoder\n",
    "from keras.utils import to_categorical\n",
    "from keras.models import Sequential\n",
    "from keras.layers import Conv2D, MaxPooling2D, Flatten, Dense, Dropout\n",
    "from keras.optimizers import Adam\n",
    "from sklearn.model_selection import train_test_split\n",
    "from keras.utils import Sequence\n",
    "from tensorflow.keras.applications import ResNet50\n",
    "from tensorflow.keras.preprocessing.image import ImageDataGenerator\n",
    "from tensorflow.keras.optimizers import Adam\n",
    "from tensorflow.keras.models import Sequential\n",
    "from tensorflow.keras.layers import Dense\n",
    "from tensorflow.keras.layers import Dense, Dropout\n",
    "from keras.preprocessing.image import ImageDataGenerator\n",
    "from keras.layers import Dense, Dropout, BatchNormalization\n",
    "from keras.callbacks import EarlyStopping, ModelCheckpoint\n",
    "from keras.regularizers import l1"
   ]
  },
  {
   "cell_type": "markdown",
   "metadata": {
    "colab": {
     "base_uri": "https://localhost:8080/"
    },
    "id": "8cde1s9sm6CP",
    "outputId": "b8146d55-82e8-42c3-e752-f35f1f64106b"
   },
   "source": [
    "#### Read train , test csv as data frame"
   ]
  },
  {
   "cell_type": "markdown",
   "metadata": {},
   "source": [
    "Read csv and add a new coloumn with .jpg appended in id( unique image number)"
   ]
  },
  {
   "cell_type": "code",
   "execution_count": null,
   "metadata": {
    "colab": {
     "base_uri": "https://localhost:8080/"
    },
    "id": "WRIEybqbm87G",
    "outputId": "8d293ccf-d128-438a-9e85-74cfcc0f6767"
   },
   "outputs": [],
   "source": [
    "df_train = pd.read_csv('path/train_data.csv',error_bad_lines=False)\n",
    "df_train['image'] = df_train.apply(lambda row: str(row['id']) + \".jpg\", axis=1)"
   ]
  },
  {
   "cell_type": "code",
   "execution_count": null,
   "metadata": {
    "colab": {
     "base_uri": "https://localhost:8080/"
    },
    "id": "jxgJJsBTnBKP",
    "outputId": "8d821ab7-4369-44c5-83c6-c2723bdaa46a"
   },
   "outputs": [],
   "source": [
    "df_test = pd.read_csv('path/test_data.csv',error_bad_lines=False)\n",
    "df_test['image'] = df_test.apply(lambda row: str(row['id']) + \".jpg\", axis=1)"
   ]
  },
  {
   "cell_type": "markdown",
   "metadata": {
    "id": "A54wJ0fNsV6Y"
   },
   "source": [
    "#### Use Image Data genrator to read images in batch \n",
    "#### Use Augumantion & class weight "
   ]
  },
  {
   "cell_type": "code",
   "execution_count": null,
   "metadata": {
    "id": "1cSr_dU6nIL5"
   },
   "outputs": [],
   "source": [
    "# Data augmentation with different settings\n",
    "image_generator = ImageDataGenerator(\n",
    "    rescale=1.0 / 255.0,  # Normalize pixel values to [0, 1]\n",
    "    rotation_range=15,   # Random rotation\n",
    "    width_shift_range=0.1,  # Random horizontal shift\n",
    "    height_shift_range=0.1,  # Random vertical shift\n",
    "    shear_range=0.1,  # Shear transformation\n",
    "    zoom_range=0.1,  # Random zoom\n",
    "    horizontal_flip=True,  # Random horizontal flip\n",
    "    fill_mode='nearest'\n",
    ")\n",
    "####################################\n",
    "# count of each class\n",
    "class_counts = df_test['articleType'].value_counts().to_dict()\n",
    "#####################################\n",
    "# Class weights for balancing\n",
    "class_weights = {class_idx: max(class_counts.values()) / count for class_idx, count in class_counts.items()}"
   ]
  },
  {
   "cell_type": "code",
   "execution_count": null,
   "metadata": {
    "colab": {
     "base_uri": "https://localhost:8080/"
    },
    "id": "XQMbSzMInI7W",
    "outputId": "11e903e2-266b-4b6d-9cd2-1d2ebbdf7059"
   },
   "outputs": [],
   "source": [
    "# Flow training data from DataFrame with data augmentation\n",
    "training_generator = image_generator.flow_from_dataframe(\n",
    "    dataframe=df_train,\n",
    "    directory='path/train_image',\n",
    "    x_col=\"image\",\n",
    "    y_col=\"articleType\",\n",
    "    target_size=(200,200),\n",
    "    batch_size=32,\n",
    "    class_mode=\"categorical\", \n",
    "    shuffle=True,\n",
    "    class_weights=class_weights  \n",
    ")"
   ]
  },
  {
   "cell_type": "code",
   "execution_count": null,
   "metadata": {
    "colab": {
     "base_uri": "https://localhost:8080/",
     "height": 423
    },
    "id": "d9CBAemUX6Ty",
    "outputId": "c75ccec7-9389-4807-bada-c6dc6bdf5bcf"
   },
   "outputs": [],
   "source": [
    "df_test"
   ]
  },
  {
   "cell_type": "code",
   "execution_count": null,
   "metadata": {
    "colab": {
     "base_uri": "https://localhost:8080/"
    },
    "id": "uBX5xPBKnLU-",
    "outputId": "9e5eb7f1-7c2d-4207-e25d-f55e91b9164c",
    "scrolled": true
   },
   "outputs": [],
   "source": [
    "# validation data from DataFrame without augmentation\n",
    "validation_generator = image_generator.flow_from_dataframe(\n",
    "    dataframe=df_test,\n",
    "    directory=\"path/test_image\",\n",
    "    x_col=\"image\",\n",
    "    y_col=\"articleType\",\n",
    "    target_size=(200,200),\n",
    "    batch_size=32,\n",
    "    class_mode=\"categorical\",  # Use \"categorical\" for one-hot encoded labels\n",
    "    shuffle=False\n",
    ")"
   ]
  },
  {
   "cell_type": "markdown",
   "metadata": {},
   "source": [
    "#### Define model"
   ]
  },
  {
   "cell_type": "code",
   "execution_count": null,
   "metadata": {
    "colab": {
     "base_uri": "https://localhost:8080/"
    },
    "id": "gVCzcPcLpdxs",
    "outputId": "bd74b2da-c259-4047-e39c-521839f0b1d6"
   },
   "outputs": [],
   "source": [
    "# Sequential model\n",
    "model_1= Sequential()\n",
    "\n",
    "# ResNet50 model\n",
    "model_1.add(ResNet50(include_top=False, weights=\"imagenet\", pooling=\"avg\"))\n",
    "\n",
    "# Adding new layers\n",
    "model_1.add(Dense(128, activation=\"relu\"))\n",
    "model_1.add(BatchNormalization())\n",
    "model_1.add(Dropout(0.3))\n",
    "\n",
    "model_1.add(Dense(64, activation=\"relu\",kernel_regularizer=l1(0.001)))\n",
    "model_1.add(BatchNormalization())\n",
    "model_1.add(Dropout(0.2))\n",
    "\n",
    "model_1.add(Dense(32, activation=\"relu\",kernel_regularizer=l1(0.001)))\n",
    "model_1.add(BatchNormalization())\n",
    "model_1.add(Dropout(0.4))\n",
    "model_1.add(Dense(18, activation=\"softmax\"))"
   ]
  },
  {
   "cell_type": "markdown",
   "metadata": {},
   "source": [
    "#### Complie the model"
   ]
  },
  {
   "cell_type": "code",
   "execution_count": null,
   "metadata": {
    "id": "Zjw-UGnEpk9W"
   },
   "outputs": [],
   "source": [
    "# adding Early Stopping and Model Checkpoint\n",
    "early_stopping = EarlyStopping(monitor=\"val_acc\", patience=2, restore_best_weights=True)\n",
    "model_checkpoint = ModelCheckpoint(\"best_model.h5\", monitor=\"val_acc\", save_best_only=True)\n",
    "##\n",
    "optimizer_ = Adam(learning_rate=0.001)\n",
    "# Compile the model\n",
    "model_1.compile(optimizer=optimizer_, loss=\"categorical_crossentropy\", metrics=[\"accuracy\"])"
   ]
  },
  {
   "cell_type": "markdown",
   "metadata": {},
   "source": [
    "#### Train the model"
   ]
  },
  {
   "cell_type": "code",
   "execution_count": null,
   "metadata": {
    "colab": {
     "base_uri": "https://localhost:8080/"
    },
    "id": "EES6kUtTpnrZ",
    "outputId": "aac4355f-9741-41c3-e47f-cf8f5e677331"
   },
   "outputs": [],
   "source": [
    "# Train the model\n",
    "history_1= model_1.fit(training_generator,steps_per_epoch=len(training_generator),epochs=17,\n",
    "    validation_data=validation_generator,\n",
    "    validation_steps=len(validation_generator),\n",
    "    callbacks=[early_stopping, model_checkpoint]\n",
    ")"
   ]
  }
 ],
 "metadata": {
  "accelerator": "GPU",
  "colab": {
   "gpuType": "T4",
   "provenance": []
  },
  "kernelspec": {
   "display_name": "Python 3 (ipykernel)",
   "language": "python",
   "name": "python3"
  },
  "language_info": {
   "codemirror_mode": {
    "name": "ipython",
    "version": 3
   },
   "file_extension": ".py",
   "mimetype": "text/x-python",
   "name": "python",
   "nbconvert_exporter": "python",
   "pygments_lexer": "ipython3",
   "version": "3.11.4"
  }
 },
 "nbformat": 4,
 "nbformat_minor": 1
}
